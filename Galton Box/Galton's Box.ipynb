{
 "cells": [
  {
   "cell_type": "markdown",
   "metadata": {},
   "source": [
    "## Galton's Box\n",
    "\n",
    "The following figure depicts Galton's box, a game in which marbles are dropped through N rows of pins.  In row 0, there is one position a marble can be in (labeled 0), in row 1, there are two positions (labeled 0 and 1), and so forth.  Each time the marble bounces from one row to the next, there is a 50% probability it bounces left and a 50% probability it bounces right. \n",
    "\n",
    "<img src=\"Galton_Box.png\">\n",
    "<img src=\"Galton2.jpg\">\n",
    "\n",
    "Notice that if a marble is in position x of row y, and it bounces left, it ends up in position x of row y+1.  If it bounces right, it ends up in position x+1.\n",
    "\n",
    "1\\. Create a class, **Marble**, to represent a single Marble that will drop through Galton's Box. \n",
    "- Include attributes to represent the position of the marble.  \n",
    "- The ```__init__``` method should accept a one-character label for use when printing the Marble.\n",
    "\n",
    "2\\. Create a class, **GaltonBox**, to represent the overall setup.  You should include the following methods:\n",
    "\n",
    "- ```__init__``` - Your initializer should accept the size of the box (number of rows including the start row), N.\n",
    "- ```insert_marble``` - This method should accept a Marble instance and sets its position to position 0, row 0.\n",
    "- ```time_step``` - This method should cause all Marbles in Galton's box to bounce to the next row, dropping left or right with equal probability.  When a marble reaches row N-1 at the bottom of the box, it should not move any more.  Note that you should simply allow marbles to occupy the same position (instead of working out a system to prevent a Marble from entering a position if another Marble is already there).\n",
    "    - You can import the random library to decide which way the marble bounces: https://docs.python.org/3.7/library/random.htm\n",
    "    - If you import random, please import it at the top of your block instead of inside the class / methods.\n",
    "    \n",
    "- `__str__` and `__repr__` - Include methods to display the Marbles currently in the box.  To keep things simple, if there are multiple Marbles in a given position, you only have to display one of the labels.\n",
    "\n",
    "Your classes should mimic the following behavior (except that the horizontal positions are random):\n",
    "\n",
    "```\n",
    ">>> m1 = Marble(\"x\")\n",
    ">>> m2 = Marble(\"o\")\n",
    ">>> box = GaltonBox(3)\n",
    ">>> box.insert_marble(m1)\n",
    ">>> box\n",
    "x\n",
    "--\n",
    "---\n",
    ">>> box.time_step()\n",
    ">>> box\n",
    "-\n",
    "-x\n",
    "---\n",
    ">>> box.insert_marble(m2)\n",
    ">>> box\n",
    "o\n",
    "-x\n",
    "---\n",
    ">>> box.time_step()\n",
    ">>> box\n",
    "-\n",
    "o-\n",
    "-x-\n",
    ">>> box.time_step()\n",
    ">>> box\n",
    "-\n",
    "--\n",
    "ox-\n",
    "```\n",
    "\n"
   ]
  },
  {
   "cell_type": "code",
   "execution_count": 1,
   "metadata": {},
   "outputs": [],
   "source": [
    "# YOUR CODE HERE\n",
    "import random\n",
    "import matplotlib.pyplot as plt\n",
    "import numpy as np\n",
    "bounce_choice = [0, 1]\n",
    "class Marble:\n",
    "    #Use the __init__ dunder method to initialize marbles and set the marble's row and column values to 0:\n",
    "    def __init__(self, name):\n",
    "        self.row = 0\n",
    "        self.column = 0\n",
    "        self.name = name\n",
    "\n",
    "class GaltonBox:\n",
    "    #Define an empty list in which we will store the marbles:\n",
    "    def __init__(self, numOfRows):\n",
    "        self.numOfRows = numOfRows\n",
    "        #Initialize Galton's Box:\n",
    "        self.box = [\"-\" * i for i in range(1, numOfRows + 1)]\n",
    "        self.marbleList = []\n",
    "        \n",
    "    def insert_marble(self, marble):\n",
    "        self.box[0] = marble.name\n",
    "        #Append marble to the marbleList\n",
    "        self.marbleList.append(marble)\n",
    "    \n",
    "    def time_step(self):\n",
    "        #For each marble:\n",
    "        for i in self.marbleList:\n",
    "            #Bounces either left or right (increases both row and column by 1, or just the row by 1):\n",
    "            bounce = random.choice(bounce_choice)\n",
    "            #Make sure marble isn't at the bottom. If it is at the bottom, then don't let the marble move at all:\n",
    "            if i.row != self.numOfRows-1:\n",
    "                #Since strings are immutable, we will convert the row to a list, change one speicific position to \"-\",\n",
    "                #and join the list to a string again:\n",
    "                self.box[i.row] = list(self.box[i.row])\n",
    "                self.box[i.row][i.column] = \"-\"\n",
    "                self.box[i.row] = ''.join(self.box[i.row])\n",
    "                #Increase row by 1, regardless of which column the marble lands in:\n",
    "                i.row += 1\n",
    "                i.column += bounce\n",
    "                self.box[i.row] = list(self.box[i.row])\n",
    "                self.box[i.row][i.column] = i.name\n",
    "                self.box[i.row] = ''.join(self.box[i.row])\n",
    "                \n",
    "    #Use the __repr__ dunder method to print Galton's Box when the print() function tries to print an instance created\n",
    "    #from the GaltonBox class:\n",
    "\n",
    "    def __repr__(self):\n",
    "        box = \"\"\n",
    "        for a in self.box:\n",
    "            box += a + \"\\n\"\n",
    "        return box\n"
   ]
  },
  {
   "cell_type": "code",
   "execution_count": 2,
   "metadata": {},
   "outputs": [
    {
     "name": "stdout",
     "output_type": "stream",
     "text": [
      "o\n",
      "--\n",
      "---\n",
      "\n",
      "True\n"
     ]
    }
   ],
   "source": [
    "# tests to compare the code with the expected output.\n",
    "\n",
    "# The string representation should match?\n",
    "\n",
    "box = GaltonBox(3)\n",
    "box.insert_marble(Marble(\"o\"))\n",
    "print(box)\n",
    "print(str(box) == 'o\\n--\\n---\\n')"
   ]
  },
  {
   "cell_type": "code",
   "execution_count": 3,
   "metadata": {},
   "outputs": [
    {
     "name": "stdout",
     "output_type": "stream",
     "text": [
      "-\n",
      "-o\n",
      "---\n",
      "\n",
      "True\n"
     ]
    }
   ],
   "source": [
    "# tests to compare the code with the expected output.\n",
    "\n",
    "# The time-step method should work as expected?\n",
    "\n",
    "import random\n",
    "random.seed(1234)\n",
    "\n",
    "box.time_step()\n",
    "print(box)\n",
    "print(str(box) == '-\\n-o\\n---\\n')"
   ]
  },
  {
   "cell_type": "markdown",
   "metadata": {},
   "source": [
    "**Further Investigation: write code to create a box with 20 rows, insert a 100 Marbles, and repeatedly call time_step() until all Marbles are at the bottom. Display a histogram of the final Marble positions.**"
   ]
  },
  {
   "cell_type": "code",
   "execution_count": 5,
   "metadata": {},
   "outputs": [
    {
     "data": {
      "text/plain": [
       "(array([1., 2., 3., 2., 0., 1.]),\n",
       " array([0.5, 1.5, 2.5, 3.5, 4.5, 5.5, 6.5]),\n",
       " <a list of 6 Patch objects>)"
      ]
     },
     "execution_count": 5,
     "metadata": {},
     "output_type": "execute_result"
    },
    {
     "data": {
      "image/png": "[encoded data removed]",
      "text/plain": [
       "<Figure size 432x288 with 1 Axes>"
      ]
     },
     "metadata": {
      "needs_background": "light"
     },
     "output_type": "display_data"
    }
   ],
   "source": [
    "# code below\n",
    "\n",
    "%matplotlib inline\n",
    "import matplotlib.pyplot as plt\n",
    "import numpy as np\n",
    "\n",
    "x_positions = (2,3,4,6,7,4,3,2,3,1)\n",
    "cutoffs = np.arange(min(x_positions) - .5, max(x_positions)+.5)\n",
    "plt.hist(x_positions, bins = cutoffs)"
   ]
  },
  {
   "cell_type": "code",
   "execution_count": 6,
   "metadata": {},
   "outputs": [
    {
     "data": {
      "text/plain": [
       "(array([10.,  0.,  1.,  2.,  0.,  0.,  0.,  1.,  0.,  1.,  0.,  0.,  1.,\n",
       "         1.,  0.,  1.,  1.,  0.,  0.,  0.]),\n",
       " array([-0.5,  0.5,  1.5,  2.5,  3.5,  4.5,  5.5,  6.5,  7.5,  8.5,  9.5,\n",
       "        10.5, 11.5, 12.5, 13.5, 14.5, 15.5, 16.5, 17.5, 18.5, 19.5]),\n",
       " <a list of 20 Patch objects>)"
      ]
     },
     "execution_count": 6,
     "metadata": {},
     "output_type": "execute_result"
    },
    {
     "data": {
      "image/png": "[encoded data removed]",
      "text/plain": [
       "<Figure size 432x288 with 1 Axes>"
      ]
     },
     "metadata": {
      "needs_background": "light"
     },
     "output_type": "display_data"
    }
   ],
   "source": [
    "# YOUR CODE HERE\n",
    "#Make a board with 20 rows, and insert 100 marbles (for the bonus investigation)\n",
    "\n",
    "\n",
    "box1 = GaltonBox(20)\n",
    "for i in range(100):\n",
    "    box1.insert_marble(Marble(\"O\"))\n",
    "\n",
    "#Make all the marbles drop to the botton row:    \n",
    "\n",
    "for i in range(20):\n",
    "    box1.time_step()\n",
    "\n",
    "#Record how many marbles landed in each column of the bottom row and store it in a x_positions list.\n",
    "    \n",
    "x_positions = [0 for i in range (20)]\n",
    "\n",
    "for marble in box1.marbleList:\n",
    "    x_positions[marble.column] += 1\n",
    "    \n",
    "#Create a histogram representation of the x_positions list using matplotlib:\n",
    "    \n",
    "    \n",
    "cutoffs = np.arange(min(x_positions) - .5, max(x_positions)+.5)\n",
    "plt.hist(x_positions, bins = cutoffs)"
   ]
  },
  {
   "cell_type": "markdown",
   "metadata": {},
   "source": [
    "Investigation analysis:\n",
    "\n",
    "More marbles land on Position 0, row 19 compared to all the other randomly scattered marbles.\n",
    "This is because when the marble goes right, it scatters randomly across the histrogram. But when the marble goes down all 20 times, it increases its rows, but not its columns. Thus, more marbles land on row 19 position 0."
   ]
  },
  {
   "cell_type": "code",
   "execution_count": null,
   "metadata": {},
   "outputs": [],
   "source": []
  }
 ],
 "metadata": {
  "kernelspec": {
   "display_name": "Python 3",
   "language": "python",
   "name": "python3"
  },
  "language_info": {
   "codemirror_mode": {
    "name": "ipython",
    "version": 3
   },
   "file_extension": ".py",
   "mimetype": "text/x-python",
   "name": "python",
   "nbconvert_exporter": "python",
   "pygments_lexer": "ipython3",
   "version": "3.8.3"
  }
 },
 "nbformat": 4,
 "nbformat_minor": 4
}
